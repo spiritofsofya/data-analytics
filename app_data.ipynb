{
 "cells": [
  {
   "cell_type": "markdown",
   "metadata": {},
   "source": [
    "# Profitable app profiles for the App Store and Google play markets\n",
    "\n",
    "The aim of this project is to find mobile app profiles that are profitable for the App Store and Google Play markets. Assuming the goal for developers is to make the most profit from ad revenue, it is needed to understand what kind of free apps attract the largest amount of users.\n",
    "\n",
    "Used datasets:\n",
    "\n",
    "   + [Google Play](https://www.kaggle.com/lava18/google-play-store-apps)\n",
    "   + [App Store](https://www.kaggle.com/ramamet4/app-store-apple-data-set-10k-apps)"
   ]
  },
  {
   "cell_type": "code",
   "execution_count": 1,
   "metadata": {},
   "outputs": [],
   "source": [
    "from csv import reader\n",
    "\n",
    "#opening App Store data\n",
    "\n",
    "opened_ios = open('datasets/AppleStore.csv')\n",
    "read_ios = reader(opened_ios)\n",
    "data_ios = list(read_ios)\n",
    "\n",
    "header_ios = data_ios[0]\n",
    "content_ios = data_ios[1:]\n",
    "\n",
    "\n",
    "#opening Goodle Play data\n",
    "\n",
    "opened_android = open('datasets/googleplaystore.csv')\n",
    "read_android = reader(opened_android)\n",
    "data_android = list(read_android)\n",
    "\n",
    "header_android = data_android[0]\n",
    "content_android = data_android[1:]"
   ]
  },
  {
   "cell_type": "markdown",
   "metadata": {},
   "source": [
    "## Exploring the data"
   ]
  },
  {
   "cell_type": "markdown",
   "metadata": {},
   "source": [
    "Let's look at column names for both datasets:"
   ]
  },
  {
   "cell_type": "code",
   "execution_count": 2,
   "metadata": {
    "scrolled": true
   },
   "outputs": [
    {
     "data": {
      "text/plain": [
       "['id',\n",
       " 'track_name',\n",
       " 'size_bytes',\n",
       " 'currency',\n",
       " 'price',\n",
       " 'rating_count_tot',\n",
       " 'rating_count_ver',\n",
       " 'user_rating',\n",
       " 'user_rating_ver',\n",
       " 'ver',\n",
       " 'cont_rating',\n",
       " 'prime_genre',\n",
       " 'sup_devices.num',\n",
       " 'ipadSc_urls.num',\n",
       " 'lang.num',\n",
       " 'vpp_lic']"
      ]
     },
     "execution_count": 2,
     "metadata": {},
     "output_type": "execute_result"
    }
   ],
   "source": [
    "header_ios"
   ]
  },
  {
   "cell_type": "code",
   "execution_count": 3,
   "metadata": {
    "scrolled": true
   },
   "outputs": [
    {
     "data": {
      "text/plain": [
       "['App',\n",
       " 'Category',\n",
       " 'Rating',\n",
       " 'Reviews',\n",
       " 'Size',\n",
       " 'Installs',\n",
       " 'Type',\n",
       " 'Price',\n",
       " 'Content Rating',\n",
       " 'Genres',\n",
       " 'Last Updated',\n",
       " 'Current Ver',\n",
       " 'Android Ver']"
      ]
     },
     "execution_count": 3,
     "metadata": {},
     "output_type": "execute_result"
    }
   ],
   "source": [
    "header_android"
   ]
  },
  {
   "cell_type": "markdown",
   "metadata": {},
   "source": [
    "For clarity let's look at the meanings behind every column name:"
   ]
  },
  {
   "cell_type": "markdown",
   "metadata": {},
   "source": [
    "**Google Play**\n",
    "\n",
    "|    Column name |        Description                                               |\n",
    "|----------------|------------------------------------------------------------------|\n",
    "| App            | App name                                                 |\n",
    "| Category       | Category the app belongs to                                      |\n",
    "| Rating         | Overall user rating of the app                                   |\n",
    "| Reviews        | Number of user reviews                                           |\n",
    "| Size           | Size of the app                                                  |\n",
    "| Installs       | Number of user downloads                                         |\n",
    "| Type           | Paid or Free                                                     |\n",
    "| Price          | Price of the app                                                 |\n",
    "| Content Rating | Age group the app is targeted at - Children / Mature 21+ / Adult |\n",
    "| Genres         | Multiple genres apart from the main category                     |\n",
    "| Last Updated   | Date when the app was last updated                               |\n",
    "| Current Ver    | Current version of the app                                       |\n",
    "| Android Ver    | Min required Android version                                     |"
   ]
  },
  {
   "cell_type": "markdown",
   "metadata": {},
   "source": [
    "**App Store**\n",
    "\n",
    "|Column name       |Description                                      |\n",
    "|------------------|-------------------------------------------------|\n",
    "| id               | App ID                                          |\n",
    "| track_name       | App Name                                        |\n",
    "| size_bytes       | Size (in Bytes)                                 |\n",
    "| currency         | Currency Type                                   |\n",
    "| price            | Price amount                                    |\n",
    "| rating_count_tot | User Rating counts (for all version)            |\n",
    "| rating_count_ver | User Rating counts (for current version)        |\n",
    "| user_rating      | Average User Rating value (for all version)     |\n",
    "| user_rating_ver  | Average User Rating value (for current version) |\n",
    "| ver              | Latest version code                             |\n",
    "| cont_rating      | Content Rating                                  |\n",
    "| prime_genre      | Primary Genre                                   |\n",
    "| sup_devices.num  | Number of supporting devices                    |\n",
    "| ipadSc_urls.num  | Number of screenshots showed for display        |\n",
    "| lang.num         | Number of supported languages                   |\n",
    "| vpp_lic          | Vpp Device Based Licensing Enabled              |\n",
    "\n"
   ]
  },
  {
   "cell_type": "markdown",
   "metadata": {},
   "source": [
    "To make it easier to explore the two data sets, we'll use the function **explore_data()** that presents the data in a readable way & shows the number of rows and columns."
   ]
  },
  {
   "cell_type": "code",
   "execution_count": 4,
   "metadata": {},
   "outputs": [],
   "source": [
    "def explore_data(dataset, start, end, rows_and_columns=True):\n",
    "    dataset_slice = dataset[start:end]    \n",
    "    for row in dataset_slice:\n",
    "        print(row)\n",
    "        print('\\n')\n",
    "\n",
    "    if rows_and_columns:\n",
    "        print('Number of rows:', len(dataset))\n",
    "        print('Number of columns:', len(dataset[0]))"
   ]
  },
  {
   "cell_type": "code",
   "execution_count": 5,
   "metadata": {},
   "outputs": [
    {
     "name": "stdout",
     "output_type": "stream",
     "text": [
      "['284882215', 'Facebook', '389879808', 'USD', '0.0', '2974676', '212', '3.5', '3.5', '95.0', '4+', 'Social Networking', '37', '1', '29', '1']\n",
      "\n",
      "\n",
      "Number of rows: 7197\n",
      "Number of columns: 16\n"
     ]
    }
   ],
   "source": [
    "explore_data(content_ios, start=0, end=1)"
   ]
  },
  {
   "cell_type": "code",
   "execution_count": 6,
   "metadata": {},
   "outputs": [
    {
     "name": "stdout",
     "output_type": "stream",
     "text": [
      "['Photo Editor & Candy Camera & Grid & ScrapBook', 'ART_AND_DESIGN', '4.1', '159', '19M', '10,000+', 'Free', '0', 'Everyone', 'Art & Design', 'January 7, 2018', '1.0.0', '4.0.3 and up']\n",
      "\n",
      "\n",
      "Number of rows: 10841\n",
      "Number of columns: 13\n"
     ]
    }
   ],
   "source": [
    "explore_data(content_android, start=0, end=1)"
   ]
  },
  {
   "cell_type": "markdown",
   "metadata": {},
   "source": [
    "## Deleting wrong data"
   ]
  },
  {
   "cell_type": "markdown",
   "metadata": {},
   "source": [
    "One of the discussions of the Google Play dataset outlines an error for row 10472: the number of column names does not match up with the elements of the row"
   ]
  },
  {
   "cell_type": "code",
   "execution_count": 7,
   "metadata": {},
   "outputs": [
    {
     "name": "stdout",
     "output_type": "stream",
     "text": [
      "['Life Made WI-Fi Touchscreen Photo Frame', '1.9', '19', '3.0M', '1,000+', 'Free', '0', 'Everyone', '', 'February 11, 2018', '1.0.19', '4.0 and up']\n"
     ]
    }
   ],
   "source": [
    "print(content_android[10472])"
   ]
  },
  {
   "cell_type": "markdown",
   "metadata": {},
   "source": [
    "To make sure this is the only row with this problem let's print all the columns in which these parameters don't match:"
   ]
  },
  {
   "cell_type": "code",
   "execution_count": 8,
   "metadata": {},
   "outputs": [
    {
     "name": "stdout",
     "output_type": "stream",
     "text": [
      "['Life Made WI-Fi Touchscreen Photo Frame', '1.9', '19', '3.0M', '1,000+', 'Free', '0', 'Everyone', '', 'February 11, 2018', '1.0.19', '4.0 and up']\n",
      "10472\n"
     ]
    }
   ],
   "source": [
    "for row in content_android:\n",
    "    if len(row) != len(header_android):\n",
    "        print(row)\n",
    "        print(content_android.index(row))"
   ]
  },
  {
   "cell_type": "markdown",
   "metadata": {},
   "source": [
    "We can see that we need to delete only this one row."
   ]
  },
  {
   "cell_type": "code",
   "execution_count": 9,
   "metadata": {},
   "outputs": [],
   "source": [
    "del content_android[10472]"
   ]
  },
  {
   "cell_type": "markdown",
   "metadata": {},
   "source": [
    "## Dealing with duplicate entries"
   ]
  },
  {
   "cell_type": "markdown",
   "metadata": {},
   "source": [
    "In the process of exploring the Google play dataset we've discovered that some apps have duplicate entries. Let's print out the lists of unique and duplicate apps:"
   ]
  },
  {
   "cell_type": "code",
   "execution_count": 10,
   "metadata": {},
   "outputs": [],
   "source": [
    "duplicates = []\n",
    "uniques = []\n",
    "\n",
    "for row in content_android:\n",
    "    name = row[0]\n",
    "    if name in uniques:\n",
    "        duplicates.append(name)\n",
    "    else:\n",
    "        uniques.append(name)"
   ]
  },
  {
   "cell_type": "code",
   "execution_count": 11,
   "metadata": {},
   "outputs": [
    {
     "name": "stdout",
     "output_type": "stream",
     "text": [
      "The number of duplicate apps:  1181\n"
     ]
    }
   ],
   "source": [
    "print('The number of duplicate apps: ', len(duplicates))"
   ]
  },
  {
   "cell_type": "markdown",
   "metadata": {},
   "source": [
    "Let's see a few examples:"
   ]
  },
  {
   "cell_type": "code",
   "execution_count": 12,
   "metadata": {},
   "outputs": [
    {
     "data": {
      "text/plain": [
       "['Quick PDF Scanner + OCR FREE',\n",
       " 'Box',\n",
       " 'Google My Business',\n",
       " 'ZOOM Cloud Meetings',\n",
       " 'join.me - Simple Meetings',\n",
       " 'Box',\n",
       " 'Zenefits',\n",
       " 'Google Ads',\n",
       " 'Google My Business',\n",
       " 'Slack']"
      ]
     },
     "execution_count": 12,
     "metadata": {},
     "output_type": "execute_result"
    }
   ],
   "source": [
    "duplicates[:10]"
   ]
  },
  {
   "cell_type": "code",
   "execution_count": 13,
   "metadata": {},
   "outputs": [
    {
     "name": "stdout",
     "output_type": "stream",
     "text": [
      "['Slack', 'BUSINESS', '4.4', '51507', 'Varies with device', '5,000,000+', 'Free', '0', 'Everyone', 'Business', 'August 2, 2018', 'Varies with device', 'Varies with device']\n",
      "['Slack', 'BUSINESS', '4.4', '51507', 'Varies with device', '5,000,000+', 'Free', '0', 'Everyone', 'Business', 'August 2, 2018', 'Varies with device', 'Varies with device']\n",
      "['Slack', 'BUSINESS', '4.4', '51510', 'Varies with device', '5,000,000+', 'Free', '0', 'Everyone', 'Business', 'August 2, 2018', 'Varies with device', 'Varies with device']\n"
     ]
    }
   ],
   "source": [
    "for app in content_android:\n",
    "    name = app[0]\n",
    "    if name == 'Slack':\n",
    "        print(app)"
   ]
  },
  {
   "cell_type": "markdown",
   "metadata": {},
   "source": [
    "As we can see above, there are three rows for the Slack app. The only thing that differs is the 4th column value - the number of reviews. We can conclude that the rows represent the same app, but with the data extracted at different times.\n",
    "\n",
    "We'll take into consideration the row with the most amount of reviews."
   ]
  },
  {
   "cell_type": "markdown",
   "metadata": {},
   "source": [
    "The function **max_reviews()** takes the app name and returns the highest number of reviews for it present in the Google Play dataset:"
   ]
  },
  {
   "cell_type": "code",
   "execution_count": 14,
   "metadata": {},
   "outputs": [],
   "source": [
    "def max_reviews(app_name):\n",
    "    \n",
    "    reviews_list = []\n",
    "    for row in content_android:\n",
    "        if row[0] == app_name:\n",
    "            reviews_list.append(int(row[3]))  \n",
    "            \n",
    "    return max(reviews_list)"
   ]
  },
  {
   "cell_type": "code",
   "execution_count": 15,
   "metadata": {},
   "outputs": [
    {
     "data": {
      "text/plain": [
       "51510"
      ]
     },
     "execution_count": 15,
     "metadata": {},
     "output_type": "execute_result"
    }
   ],
   "source": [
    "max_reviews('Slack')"
   ]
  },
  {
   "cell_type": "markdown",
   "metadata": {},
   "source": [
    "Let's use the function to create a dictionary that stores the key-value sets of names and the max number of reviews for each name:"
   ]
  },
  {
   "cell_type": "code",
   "execution_count": 16,
   "metadata": {},
   "outputs": [],
   "source": [
    "names = []\n",
    "reviews_values = []\n",
    "\n",
    "for row in content_android:\n",
    "    app = row[0]\n",
    "    names.append(app)\n",
    "    max_review = max_reviews(app)\n",
    "    reviews_values.append(max_review)\n",
    "    \n",
    "max_reviews_dict = dict(zip(names, reviews_values))\n"
   ]
  },
  {
   "cell_type": "markdown",
   "metadata": {},
   "source": [
    "Now we can create a new dataset **clean_data_android** without the duplicate app rows:"
   ]
  },
  {
   "cell_type": "code",
   "execution_count": 17,
   "metadata": {},
   "outputs": [],
   "source": [
    "clean_data_android = []\n",
    "already_added = []\n",
    "\n",
    "for row in content_android:\n",
    "    name = row[0]\n",
    "    n_reviews = float(row[3])\n",
    "    if n_reviews == max_reviews_dict[name] and name not in already_added:\n",
    "        clean_data_android.append(row)\n",
    "        already_added.append(name)"
   ]
  },
  {
   "cell_type": "code",
   "execution_count": 18,
   "metadata": {},
   "outputs": [
    {
     "data": {
      "text/plain": [
       "9659"
      ]
     },
     "execution_count": 18,
     "metadata": {},
     "output_type": "execute_result"
    }
   ],
   "source": [
    "len(clean_data_android)"
   ]
  },
  {
   "cell_type": "markdown",
   "metadata": {},
   "source": [
    "## Removing Non-English Apps"
   ]
  },
  {
   "cell_type": "markdown",
   "metadata": {},
   "source": [
    "The names of some of the apps suggest they are not directed toward an English-speaking audience. Let's see a couple of examples from both data sets:"
   ]
  },
  {
   "cell_type": "code",
   "execution_count": 19,
   "metadata": {},
   "outputs": [
    {
     "name": "stdout",
     "output_type": "stream",
     "text": [
      "爱奇艺PPS -《欢乐颂2》电视剧热播 \n",
      "\n",
      "【脱出ゲーム】絶対に最後までプレイしないで 〜謎解き＆ブロックパズル〜 \n",
      "\n",
      "中国語 AQリスニング \n",
      "\n",
      "لعبة تقدر تربح DZ\n"
     ]
    }
   ],
   "source": [
    "print(content_ios[813][1], '\\n')\n",
    "print(content_ios[6731][1], '\\n')\n",
    "print(clean_data_android[4412][0], '\\n')\n",
    "print(clean_data_android[7940][0])"
   ]
  },
  {
   "cell_type": "markdown",
   "metadata": {},
   "source": [
    "We're not interested in keeping these kind of apps, so we'll remove them. We can delete each app whose name contains a symbol that is not commonly used in English text based on the ASCII standart."
   ]
  },
  {
   "cell_type": "markdown",
   "metadata": {},
   "source": [
    "The function **is_in_english()** uses the built-in function ord() that returns the ASCII code of a character to determine whether most symbols of a string are usual for the English language (are in the range of 0-126). Any number of unusual symbols above 3 will give a False outcome:"
   ]
  },
  {
   "cell_type": "code",
   "execution_count": 20,
   "metadata": {},
   "outputs": [],
   "source": [
    "def is_in_english(a_string):\n",
    "    non_eng = []\n",
    "    for symbol in a_string:\n",
    "        if ord(symbol) > 127:\n",
    "            non_eng.append(symbol)\n",
    "    if len(non_eng) >= 3:\n",
    "        return False\n",
    "    \n",
    "    return True\n"
   ]
  },
  {
   "cell_type": "code",
   "execution_count": 21,
   "metadata": {},
   "outputs": [
    {
     "data": {
      "text/plain": [
       "True"
      ]
     },
     "execution_count": 21,
     "metadata": {},
     "output_type": "execute_result"
    }
   ],
   "source": [
    "is_in_english('Instagram')"
   ]
  },
  {
   "cell_type": "code",
   "execution_count": 22,
   "metadata": {},
   "outputs": [
    {
     "data": {
      "text/plain": [
       "True"
      ]
     },
     "execution_count": 22,
     "metadata": {},
     "output_type": "execute_result"
    }
   ],
   "source": [
    "is_in_english('Instachat 😜')"
   ]
  },
  {
   "cell_type": "code",
   "execution_count": 23,
   "metadata": {},
   "outputs": [
    {
     "data": {
      "text/plain": [
       "False"
      ]
     },
     "execution_count": 23,
     "metadata": {},
     "output_type": "execute_result"
    }
   ],
   "source": [
    "is_in_english('爱奇艺PPS -《欢乐颂2》电视剧热播')"
   ]
  },
  {
   "cell_type": "markdown",
   "metadata": {},
   "source": [
    "Using our new function **is_in_english()** we'll make two new datasets for both Google Play and App Store that inculde apps in English only:"
   ]
  },
  {
   "cell_type": "code",
   "execution_count": 24,
   "metadata": {},
   "outputs": [],
   "source": [
    "eng_android_data = []\n",
    "\n",
    "for row in clean_data_android:\n",
    "    name = row[0]\n",
    "    if is_in_english(name):\n",
    "        eng_android_data.append(row)"
   ]
  },
  {
   "cell_type": "code",
   "execution_count": 25,
   "metadata": {},
   "outputs": [
    {
     "data": {
      "text/plain": [
       "9597"
      ]
     },
     "execution_count": 25,
     "metadata": {},
     "output_type": "execute_result"
    }
   ],
   "source": [
    "len(eng_android_data)"
   ]
  },
  {
   "cell_type": "code",
   "execution_count": 26,
   "metadata": {},
   "outputs": [],
   "source": [
    "eng_ios_data = []\n",
    "\n",
    "for row in content_ios:\n",
    "    name = row[1]\n",
    "    if is_in_english(name):\n",
    "        eng_ios_data.append(row)"
   ]
  },
  {
   "cell_type": "code",
   "execution_count": 27,
   "metadata": {},
   "outputs": [
    {
     "data": {
      "text/plain": [
       "6155"
      ]
     },
     "execution_count": 27,
     "metadata": {},
     "output_type": "execute_result"
    }
   ],
   "source": [
    "len(eng_ios_data)"
   ]
  },
  {
   "cell_type": "markdown",
   "metadata": {},
   "source": [
    "## Removing non-free apps"
   ]
  },
  {
   "cell_type": "markdown",
   "metadata": {},
   "source": [
    "As we've established in the introduction, we're only interested in free apps. Let's clear out both datasets from the rows with paid apps."
   ]
  },
  {
   "cell_type": "code",
   "execution_count": 28,
   "metadata": {},
   "outputs": [],
   "source": [
    "free_android_apps = []\n",
    "\n",
    "for row in eng_android_data:\n",
    "    price = row[7]\n",
    "    if price == '0':\n",
    "        free_android_apps.append(row)"
   ]
  },
  {
   "cell_type": "code",
   "execution_count": 29,
   "metadata": {},
   "outputs": [
    {
     "data": {
      "text/plain": [
       "8848"
      ]
     },
     "execution_count": 29,
     "metadata": {},
     "output_type": "execute_result"
    }
   ],
   "source": [
    "len(free_android_apps)"
   ]
  },
  {
   "cell_type": "code",
   "execution_count": 30,
   "metadata": {},
   "outputs": [],
   "source": [
    "free_ios_apps = []\n",
    "\n",
    "for row in eng_ios_data:\n",
    "    price = row[4]\n",
    "    if price == '0.0':\n",
    "        free_ios_apps.append(row)"
   ]
  },
  {
   "cell_type": "code",
   "execution_count": 31,
   "metadata": {
    "scrolled": true
   },
   "outputs": [
    {
     "data": {
      "text/plain": [
       "3203"
      ]
     },
     "execution_count": 31,
     "metadata": {},
     "output_type": "execute_result"
    }
   ],
   "source": [
    "len(free_ios_apps)"
   ]
  },
  {
   "cell_type": "markdown",
   "metadata": {},
   "source": [
    "We're left with 8848 Android apps and 3203 iOS apps, which should be enough for the analysis.\n",
    "\n"
   ]
  },
  {
   "cell_type": "markdown",
   "metadata": {},
   "source": [
    "## Finding most popular apps by amount"
   ]
  },
  {
   "cell_type": "markdown",
   "metadata": {},
   "source": [
    "Our aim is to determine the kinds of apps that are likely to attract more users because our revenue is highly influenced by the number of people using our apps.\n",
    "\n",
    "Let's begin the analysis by getting a sense of what are the most common genres for each market. For this, we'll build frequency tables for a few columns in both datasets."
   ]
  },
  {
   "cell_type": "markdown",
   "metadata": {},
   "source": [
    "The function **freq_table()** generates frequency tables in percentages for a chosen column in a dataset:"
   ]
  },
  {
   "cell_type": "code",
   "execution_count": 32,
   "metadata": {},
   "outputs": [],
   "source": [
    "# in percentages\n",
    "\n",
    "def freq_table(dataset, index):\n",
    "    frequency_table = {}\n",
    "    \n",
    "    for row in dataset:\n",
    "        data_point = row[index]\n",
    "        if data_point in frequency_table:\n",
    "            frequency_table[data_point] += 1\n",
    "        else:\n",
    "            frequency_table[data_point] = 1\n",
    "            \n",
    "    for element in frequency_table:\n",
    "        frequency_table[element] /= len(dataset)\n",
    "        frequency_table[element] *= 100\n",
    "        frequency_table[element] = round(frequency_table[element], 2)\n",
    "        \n",
    "        \n",
    "    return frequency_table"
   ]
  },
  {
   "cell_type": "markdown",
   "metadata": {},
   "source": [
    "The function **display_table()** presents the frequency table in a descending order of percentages:"
   ]
  },
  {
   "cell_type": "code",
   "execution_count": 33,
   "metadata": {},
   "outputs": [],
   "source": [
    "def display_table(dataset, index):\n",
    "    table = freq_table(dataset, index)\n",
    "    table_display = []\n",
    "    for key in table:\n",
    "        key_val_as_tuple = (table[key], key)\n",
    "        table_display.append(key_val_as_tuple)\n",
    "\n",
    "    table_sorted = sorted(table_display, reverse = True)\n",
    "    for entry in table_sorted:\n",
    "        print(entry[1], ':', entry[0])"
   ]
  },
  {
   "cell_type": "markdown",
   "metadata": {},
   "source": [
    "The **Category** frequency table for Google Play:"
   ]
  },
  {
   "cell_type": "code",
   "execution_count": 34,
   "metadata": {},
   "outputs": [
    {
     "name": "stdout",
     "output_type": "stream",
     "text": [
      "FAMILY : 18.94\n",
      "GAME : 9.7\n",
      "TOOLS : 8.45\n",
      "BUSINESS : 4.6\n",
      "PRODUCTIVITY : 3.9\n",
      "LIFESTYLE : 3.89\n",
      "FINANCE : 3.71\n",
      "MEDICAL : 3.54\n",
      "SPORTS : 3.39\n",
      "PERSONALIZATION : 3.32\n",
      "COMMUNICATION : 3.23\n",
      "HEALTH_AND_FITNESS : 3.09\n",
      "PHOTOGRAPHY : 2.95\n",
      "NEWS_AND_MAGAZINES : 2.8\n",
      "SOCIAL : 2.67\n",
      "TRAVEL_AND_LOCAL : 2.34\n",
      "SHOPPING : 2.25\n",
      "BOOKS_AND_REFERENCE : 2.14\n",
      "DATING : 1.86\n",
      "VIDEO_PLAYERS : 1.8\n",
      "MAPS_AND_NAVIGATION : 1.39\n",
      "FOOD_AND_DRINK : 1.24\n",
      "EDUCATION : 1.16\n",
      "ENTERTAINMENT : 0.96\n",
      "LIBRARIES_AND_DEMO : 0.94\n",
      "AUTO_AND_VEHICLES : 0.93\n",
      "HOUSE_AND_HOME : 0.8\n",
      "WEATHER : 0.79\n",
      "EVENTS : 0.71\n",
      "PARENTING : 0.66\n",
      "ART_AND_DESIGN : 0.64\n",
      "COMICS : 0.61\n",
      "BEAUTY : 0.6\n"
     ]
    }
   ],
   "source": [
    "display_table(free_android_apps, 1)"
   ]
  },
  {
   "cell_type": "markdown",
   "metadata": {},
   "source": [
    "As we can see above, the most popular category in Google Play among free English apps is Family, followed by Games and Tools. Since it is not really obvious what exactly does \"Family\" mean in this context, let's take a look at the actual website:\n",
    "\n",
    "![family](images/family.png)"
   ]
  },
  {
   "cell_type": "markdown",
   "metadata": {},
   "source": [
    "We can see that \"Family\" actually means \"Games for children\", so it is safe to say that gaming apps are definitely most represented in Google Play."
   ]
  },
  {
   "cell_type": "markdown",
   "metadata": {},
   "source": [
    "There is another relevant column for us to explore that shows more specific genres for apps than those in Category - Genres."
   ]
  },
  {
   "cell_type": "markdown",
   "metadata": {},
   "source": [
    "The **Genres** frequency table for Google Play:"
   ]
  },
  {
   "cell_type": "code",
   "execution_count": 35,
   "metadata": {},
   "outputs": [
    {
     "name": "stdout",
     "output_type": "stream",
     "text": [
      "Tools : 8.44\n",
      "Entertainment : 6.08\n",
      "Education : 5.36\n",
      "Business : 4.6\n",
      "Productivity : 3.9\n",
      "Lifestyle : 3.88\n",
      "Finance : 3.71\n",
      "Medical : 3.54\n",
      "Sports : 3.46\n",
      "Personalization : 3.32\n",
      "Communication : 3.23\n",
      "Action : 3.1\n",
      "Health & Fitness : 3.09\n",
      "Photography : 2.95\n",
      "News & Magazines : 2.8\n",
      "Social : 2.67\n",
      "Travel & Local : 2.33\n",
      "Shopping : 2.25\n",
      "Books & Reference : 2.14\n",
      "Simulation : 2.05\n",
      "Dating : 1.86\n",
      "Arcade : 1.84\n",
      "Video Players & Editors : 1.77\n",
      "Casual : 1.76\n",
      "Maps & Navigation : 1.39\n",
      "Food & Drink : 1.24\n",
      "Puzzle : 1.13\n",
      "Racing : 0.99\n",
      "Role Playing : 0.94\n",
      "Libraries & Demo : 0.94\n",
      "Auto & Vehicles : 0.93\n",
      "Strategy : 0.92\n",
      "House & Home : 0.8\n",
      "Weather : 0.79\n",
      "Events : 0.71\n",
      "Adventure : 0.67\n",
      "Comics : 0.6\n",
      "Beauty : 0.6\n",
      "Art & Design : 0.6\n",
      "Parenting : 0.5\n",
      "Card : 0.45\n",
      "Trivia : 0.42\n",
      "Casino : 0.42\n",
      "Educational;Education : 0.4\n",
      "Board : 0.38\n",
      "Educational : 0.37\n",
      "Education;Education : 0.34\n",
      "Word : 0.26\n",
      "Casual;Pretend Play : 0.24\n",
      "Music : 0.2\n",
      "Racing;Action & Adventure : 0.17\n",
      "Puzzle;Brain Games : 0.17\n",
      "Entertainment;Music & Video : 0.17\n",
      "Casual;Brain Games : 0.14\n",
      "Casual;Action & Adventure : 0.14\n",
      "Arcade;Action & Adventure : 0.12\n",
      "Action;Action & Adventure : 0.1\n",
      "Educational;Pretend Play : 0.09\n",
      "Simulation;Action & Adventure : 0.08\n",
      "Parenting;Education : 0.08\n",
      "Entertainment;Brain Games : 0.08\n",
      "Board;Brain Games : 0.08\n",
      "Parenting;Music & Video : 0.07\n",
      "Educational;Brain Games : 0.07\n",
      "Casual;Creativity : 0.07\n",
      "Art & Design;Creativity : 0.07\n",
      "Education;Pretend Play : 0.06\n",
      "Role Playing;Pretend Play : 0.05\n",
      "Education;Creativity : 0.05\n",
      "Role Playing;Action & Adventure : 0.03\n",
      "Puzzle;Action & Adventure : 0.03\n",
      "Entertainment;Creativity : 0.03\n",
      "Entertainment;Action & Adventure : 0.03\n",
      "Educational;Creativity : 0.03\n",
      "Educational;Action & Adventure : 0.03\n",
      "Education;Music & Video : 0.03\n",
      "Education;Brain Games : 0.03\n",
      "Education;Action & Adventure : 0.03\n",
      "Adventure;Action & Adventure : 0.03\n",
      "Video Players & Editors;Music & Video : 0.02\n",
      "Sports;Action & Adventure : 0.02\n",
      "Simulation;Pretend Play : 0.02\n",
      "Puzzle;Creativity : 0.02\n",
      "Music;Music & Video : 0.02\n",
      "Entertainment;Pretend Play : 0.02\n",
      "Casual;Education : 0.02\n",
      "Board;Action & Adventure : 0.02\n",
      "Video Players & Editors;Creativity : 0.01\n",
      "Trivia;Education : 0.01\n",
      "Travel & Local;Action & Adventure : 0.01\n",
      "Tools;Education : 0.01\n",
      "Strategy;Education : 0.01\n",
      "Strategy;Creativity : 0.01\n",
      "Strategy;Action & Adventure : 0.01\n",
      "Simulation;Education : 0.01\n",
      "Role Playing;Brain Games : 0.01\n",
      "Racing;Pretend Play : 0.01\n",
      "Puzzle;Education : 0.01\n",
      "Parenting;Brain Games : 0.01\n",
      "Music & Audio;Music & Video : 0.01\n",
      "Lifestyle;Pretend Play : 0.01\n",
      "Lifestyle;Education : 0.01\n",
      "Health & Fitness;Education : 0.01\n",
      "Health & Fitness;Action & Adventure : 0.01\n",
      "Entertainment;Education : 0.01\n",
      "Communication;Creativity : 0.01\n",
      "Comics;Creativity : 0.01\n",
      "Casual;Music & Video : 0.01\n",
      "Card;Action & Adventure : 0.01\n",
      "Books & Reference;Education : 0.01\n",
      "Art & Design;Pretend Play : 0.01\n",
      "Art & Design;Action & Adventure : 0.01\n",
      "Arcade;Pretend Play : 0.01\n",
      "Adventure;Education : 0.01\n"
     ]
    }
   ],
   "source": [
    "display_table(free_android_apps, 9)"
   ]
  },
  {
   "cell_type": "markdown",
   "metadata": {},
   "source": [
    "This frequency table presents a completely different picture concerning the nature of most popular genres. This show us that practical apps are actually play a larger role that we've discovered earlier. The reason for that is, probably, the number of highly specific sub-genres for games as opposed to any other category. "
   ]
  },
  {
   "cell_type": "markdown",
   "metadata": {},
   "source": [
    "The **prime_genre** frequency table for App Store:"
   ]
  },
  {
   "cell_type": "code",
   "execution_count": 36,
   "metadata": {},
   "outputs": [
    {
     "name": "stdout",
     "output_type": "stream",
     "text": [
      "Games : 58.26\n",
      "Entertainment : 7.84\n",
      "Photo & Video : 5.0\n",
      "Education : 3.68\n",
      "Social Networking : 3.31\n",
      "Shopping : 2.59\n",
      "Utilities : 2.47\n",
      "Sports : 2.15\n",
      "Music : 2.06\n",
      "Health & Fitness : 2.03\n",
      "Productivity : 1.75\n",
      "Lifestyle : 1.56\n",
      "News : 1.34\n",
      "Travel : 1.25\n",
      "Finance : 1.09\n",
      "Weather : 0.87\n",
      "Food & Drink : 0.81\n",
      "Reference : 0.53\n",
      "Business : 0.53\n",
      "Book : 0.37\n",
      "Navigation : 0.19\n",
      "Medical : 0.19\n",
      "Catalogs : 0.12\n"
     ]
    }
   ],
   "source": [
    "display_table(free_ios_apps, 11)"
   ]
  },
  {
   "cell_type": "markdown",
   "metadata": {},
   "source": [
    "We can see that among the free English apps, more than a half are Games. Two following app genres are Entertainment and Photo & Video.\n",
    "The clear impression is that App Store is dominated by apps that are designed for fun. In this instance practical tools don't make the top list at all.\n",
    "\n",
    "Up to this point, we discovered that the App Store is dominated by gaming and entertainment, while Google Play shows a more balanced landscape of both practical and for-fun apps."
   ]
  },
  {
   "cell_type": "markdown",
   "metadata": {},
   "source": [
    "However, the amount of apps in catalog **does not nesessarily mean** they're most popular among users. \n",
    "\n",
    "Let's actually look through the most popular genres among *users*."
   ]
  },
  {
   "cell_type": "markdown",
   "metadata": {},
   "source": [
    "## Finding most popular apps by user reviews and downloads"
   ]
  },
  {
   "cell_type": "markdown",
   "metadata": {},
   "source": [
    "The App Store dataset does not naturally provide the number of downloads. As a workaround, we can compare the number of ratings."
   ]
  },
  {
   "cell_type": "markdown",
   "metadata": {},
   "source": [
    "Let's save a frequency table for the **prime_genre** column of the App Store dataset"
   ]
  },
  {
   "cell_type": "code",
   "execution_count": 37,
   "metadata": {},
   "outputs": [],
   "source": [
    "freq_table_genres_ios = freq_table(free_ios_apps, 11)"
   ]
  },
  {
   "cell_type": "markdown",
   "metadata": {},
   "source": [
    "Now we can use it as a structured list of unique genres to count overall number of ratings made by users for each genre and not individual apps:"
   ]
  },
  {
   "cell_type": "code",
   "execution_count": 38,
   "metadata": {
    "scrolled": true
   },
   "outputs": [
    {
     "name": "stdout",
     "output_type": "stream",
     "text": [
      "Social Networking\n",
      "71548.34905660378\n",
      "Photo & Video\n",
      "28441.54375\n",
      "Games\n",
      "22886.36709539121\n",
      "Music\n",
      "57326.530303030304\n",
      "Reference\n",
      "79350.4705882353\n",
      "Health & Fitness\n",
      "23298.015384615384\n",
      "Weather\n",
      "52279.892857142855\n",
      "Utilities\n",
      "19156.493670886077\n",
      "Travel\n",
      "28243.8\n",
      "Shopping\n",
      "27230.734939759037\n",
      "News\n",
      "21248.023255813954\n",
      "Navigation\n",
      "86090.33333333333\n",
      "Lifestyle\n",
      "16815.48\n",
      "Entertainment\n",
      "14195.358565737051\n",
      "Food & Drink\n",
      "33333.92307692308\n",
      "Sports\n",
      "23008.898550724636\n",
      "Book\n",
      "46384.916666666664\n",
      "Finance\n",
      "32367.02857142857\n",
      "Education\n",
      "7003.983050847458\n",
      "Productivity\n",
      "21028.410714285714\n",
      "Business\n",
      "7491.117647058823\n",
      "Catalogs\n",
      "4004.0\n",
      "Medical\n",
      "612.0\n"
     ]
    }
   ],
   "source": [
    "genres = []\n",
    "aver_ratings = []\n",
    "\n",
    "for genre in freq_table_genres_ios:\n",
    "    total = 0\n",
    "    len_genre = 0\n",
    "    \n",
    "    for row in free_ios_apps:\n",
    "        genre_app = row[11]\n",
    "        num_reviews = float(row[5])\n",
    "        if genre_app == genre:\n",
    "            total += num_reviews\n",
    "            len_genre += 1\n",
    "            \n",
    "    aver_ratings_amount = total / len_genre\n",
    "    \n",
    "    genres.append(genre)\n",
    "    aver_ratings.append(aver_ratings_amount)\n",
    "    \n",
    "    \n",
    "    \n",
    "    print(genre)\n",
    "    print(aver_ratings_amount)\n",
    "            \n",
    "            "
   ]
  },
  {
   "cell_type": "markdown",
   "metadata": {},
   "source": [
    "To make any conclusions we need to sort this data by descending. To do that we'll make a dictionary and use a slightly modified function from earlier:"
   ]
  },
  {
   "cell_type": "code",
   "execution_count": 39,
   "metadata": {},
   "outputs": [],
   "source": [
    "aver_ratings_dict = dict(zip(genres, aver_ratings))"
   ]
  },
  {
   "cell_type": "code",
   "execution_count": 40,
   "metadata": {},
   "outputs": [],
   "source": [
    "def display_dict(table):\n",
    "\n",
    "    table_display = []\n",
    "    for key in table:\n",
    "        key_val_as_tuple = (table[key], key)\n",
    "        table_display.append(key_val_as_tuple)\n",
    "\n",
    "    table_sorted = sorted(table_display, reverse = True)\n",
    "    for entry in table_sorted:\n",
    "        print(entry[1], ':', entry[0])"
   ]
  },
  {
   "cell_type": "markdown",
   "metadata": {},
   "source": [
    "The sorted data:"
   ]
  },
  {
   "cell_type": "code",
   "execution_count": 41,
   "metadata": {},
   "outputs": [
    {
     "name": "stdout",
     "output_type": "stream",
     "text": [
      "Navigation : 86090.33333333333\n",
      "Reference : 79350.4705882353\n",
      "Social Networking : 71548.34905660378\n",
      "Music : 57326.530303030304\n",
      "Weather : 52279.892857142855\n",
      "Book : 46384.916666666664\n",
      "Food & Drink : 33333.92307692308\n",
      "Finance : 32367.02857142857\n",
      "Photo & Video : 28441.54375\n",
      "Travel : 28243.8\n",
      "Shopping : 27230.734939759037\n",
      "Health & Fitness : 23298.015384615384\n",
      "Sports : 23008.898550724636\n",
      "Games : 22886.36709539121\n",
      "News : 21248.023255813954\n",
      "Productivity : 21028.410714285714\n",
      "Utilities : 19156.493670886077\n",
      "Lifestyle : 16815.48\n",
      "Entertainment : 14195.358565737051\n",
      "Business : 7491.117647058823\n",
      "Education : 7003.983050847458\n",
      "Catalogs : 4004.0\n",
      "Medical : 612.0\n"
     ]
    }
   ],
   "source": [
    "display_dict(aver_ratings_dict)"
   ]
  },
  {
   "cell_type": "markdown",
   "metadata": {},
   "source": [
    "As we can see, the most used apps in the App Store are actually Navigation, Reference and Social Networking. Games made only the second part of the list."
   ]
  },
  {
   "cell_type": "markdown",
   "metadata": {},
   "source": [
    "The Google Play dataset does provide the number of downloads. The data istself is not precise, though:"
   ]
  },
  {
   "cell_type": "code",
   "execution_count": 42,
   "metadata": {},
   "outputs": [
    {
     "name": "stdout",
     "output_type": "stream",
     "text": [
      "1,000,000+ : 15.75\n",
      "100,000+ : 11.54\n",
      "10,000,000+ : 10.57\n",
      "10,000+ : 10.19\n",
      "1,000+ : 8.4\n",
      "100+ : 6.93\n",
      "5,000,000+ : 6.83\n",
      "500,000+ : 5.56\n",
      "50,000+ : 4.77\n",
      "5,000+ : 4.49\n",
      "10+ : 3.54\n",
      "500+ : 3.24\n",
      "50,000,000+ : 2.28\n",
      "100,000,000+ : 2.14\n",
      "50+ : 1.92\n",
      "5+ : 0.79\n",
      "1+ : 0.51\n",
      "500,000,000+ : 0.27\n",
      "1,000,000,000+ : 0.23\n",
      "0+ : 0.05\n",
      "0 : 0.01\n"
     ]
    }
   ],
   "source": [
    "display_table(free_android_apps, 5) # Installs"
   ]
  },
  {
   "cell_type": "markdown",
   "metadata": {},
   "source": [
    "To deal with this, we're going to assume that 100+ means the actual number 100, not a whole range of numbers, because we're not really interested in precision to be able to analyse. This means that the data will need some formatting."
   ]
  },
  {
   "cell_type": "markdown",
   "metadata": {},
   "source": [
    "Let's save a frequency table for the **Category** column of the App Store dataset"
   ]
  },
  {
   "cell_type": "code",
   "execution_count": 43,
   "metadata": {},
   "outputs": [],
   "source": [
    "freq_table_cats_android = freq_table(free_android_apps, 1)"
   ]
  },
  {
   "cell_type": "markdown",
   "metadata": {},
   "source": [
    "Now we can use it as a structured list of unique genres to count overall number of installs made by users for each genre and not individual apps. Note that the number of installed apps is formatted while counting:"
   ]
  },
  {
   "cell_type": "code",
   "execution_count": 44,
   "metadata": {},
   "outputs": [],
   "source": [
    "categories = []\n",
    "aver_installs = []\n",
    "\n",
    "for category in freq_table_cats_android:\n",
    "    total = 0\n",
    "    len_category = 0\n",
    "    \n",
    "    for row in free_android_apps:\n",
    "        installs = row[5]\n",
    "        category_app = row[1]\n",
    "        if category_app == category:\n",
    "            \n",
    "            installs = installs.replace('+','')\n",
    "            installs = installs.replace(',','')\n",
    "            installs = float(installs)\n",
    "\n",
    "            total += installs\n",
    "            len_category += 1\n",
    "        \n",
    "    aver_installs_amount = total / len_category\n",
    "    \n",
    "    categories.append(category)\n",
    "    aver_installs.append(aver_installs_amount)\n",
    "    \n"
   ]
  },
  {
   "cell_type": "code",
   "execution_count": 45,
   "metadata": {},
   "outputs": [],
   "source": [
    "aver_installs_dict = dict(zip(categories, aver_installs))"
   ]
  },
  {
   "cell_type": "markdown",
   "metadata": {},
   "source": [
    "The sorted data:"
   ]
  },
  {
   "cell_type": "code",
   "execution_count": 46,
   "metadata": {},
   "outputs": [
    {
     "name": "stdout",
     "output_type": "stream",
     "text": [
      "COMMUNICATION : 38590581.08741259\n",
      "VIDEO_PLAYERS : 24727872.452830188\n",
      "SOCIAL : 23253652.127118643\n",
      "PHOTOGRAPHY : 17840110.40229885\n",
      "PRODUCTIVITY : 16787331.344927534\n",
      "GAME : 15544014.51048951\n",
      "TRAVEL_AND_LOCAL : 13984077.710144928\n",
      "ENTERTAINMENT : 11640705.88235294\n",
      "TOOLS : 10830251.970588235\n",
      "NEWS_AND_MAGAZINES : 9549178.467741935\n",
      "BOOKS_AND_REFERENCE : 8814199.78835979\n",
      "SHOPPING : 7036877.311557789\n",
      "PERSONALIZATION : 5201482.6122448975\n",
      "WEATHER : 5145550.285714285\n",
      "HEALTH_AND_FITNESS : 4188821.9853479853\n",
      "MAPS_AND_NAVIGATION : 4049274.6341463416\n",
      "FAMILY : 3695641.8198090694\n",
      "SPORTS : 3650602.276666667\n",
      "ART_AND_DESIGN : 1986335.0877192982\n",
      "FOOD_AND_DRINK : 1924897.7363636363\n",
      "EDUCATION : 1833495.145631068\n",
      "BUSINESS : 1712290.1474201474\n",
      "LIFESTYLE : 1446158.2238372094\n",
      "FINANCE : 1387692.475609756\n",
      "HOUSE_AND_HOME : 1360598.042253521\n",
      "DATING : 854028.8303030303\n",
      "COMICS : 832613.8888888889\n",
      "AUTO_AND_VEHICLES : 647317.8170731707\n",
      "LIBRARIES_AND_DEMO : 638503.734939759\n",
      "PARENTING : 542603.6206896552\n",
      "BEAUTY : 513151.88679245283\n",
      "EVENTS : 253542.22222222222\n",
      "MEDICAL : 120550.61980830671\n"
     ]
    }
   ],
   "source": [
    "display_dict(aver_installs_dict)"
   ]
  },
  {
   "cell_type": "markdown",
   "metadata": {},
   "source": [
    "The most installed categories apps on Android are messengers, video players and social media platforms. These niches are dominated by large corporations, such as Google's YouTube or Facebook, who are extremely hard to compete against."
   ]
  },
  {
   "cell_type": "markdown",
   "metadata": {},
   "source": [
    "The Games category is highly popular in both Google Play and the App Store, and it is much more probable to develop a marketable gaming app than a new video hosting tool or a social media plaform. Although the market is a bit saturated, with a great product the profit has a potential to be great on both platforms."
   ]
  },
  {
   "cell_type": "markdown",
   "metadata": {},
   "source": [
    "## Conclusions"
   ]
  },
  {
   "cell_type": "markdown",
   "metadata": {},
   "source": [
    "In this project, we analyzed data about the App Store and Google Play mobile apps with the goal of recommending an app profile that can be profitable for both markets.\n",
    "\n",
    "We concluded that the Games category is the safest in terms of genrating as much income as posiible from Android and iOS applications. The application in question really needs to stand out though. Perhaps it is possible to achieve with an unexpected and interesting new game mechanic. The other way to go around this is to collide fun practicality and use gamification of mundane, but useful apps, because of the Tools category being extremely popular as well."
   ]
  }
 ],
 "metadata": {
  "kernelspec": {
   "display_name": "Python 3",
   "language": "python",
   "name": "python3"
  },
  "language_info": {
   "codemirror_mode": {
    "name": "ipython",
    "version": 3
   },
   "file_extension": ".py",
   "mimetype": "text/x-python",
   "name": "python",
   "nbconvert_exporter": "python",
   "pygments_lexer": "ipython3",
   "version": "3.7.6"
  }
 },
 "nbformat": 4,
 "nbformat_minor": 4
}
